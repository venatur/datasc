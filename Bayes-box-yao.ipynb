{
 "cells": [
  {
   "cell_type": "code",
   "execution_count": 1,
   "metadata": {},
   "outputs": [],
   "source": [
    "import scipy.io\n",
    "from scipy import stats\n",
    "import numpy as np\n",
    "from sklearn.model_selection import train_test_split\n",
    "from sklearn.metrics import accuracy_score, precision_score, recall_score, f1_score\n",
    "from sklearn.naive_bayes import GaussianNB, MultinomialNB\n",
    "from sklearn.metrics import confusion_matrix\n",
    "import matplotlib.pyplot as plt\n",
    "import seaborn as sns; sns.set()\n",
    "import pandas as pd\n",
    "mat = scipy.io.loadmat('datos_wdbc.mat')"
   ]
  },
  {
   "cell_type": "code",
   "execution_count": 2,
   "metadata": {},
   "outputs": [],
   "source": [
    "model = GaussianNB()\n",
    "model_d = MultinomialNB()\n",
    "dic = dict()"
   ]
  },
  {
   "cell_type": "code",
   "execution_count": 3,
   "metadata": {},
   "outputs": [],
   "source": [
    "def data_positive(data):\n",
    "  \n",
    "    data[data<=0] = .001\n",
    "    return data\n",
    "\n",
    "def class_separator(data):\n",
    "    sep = dict()\n",
    "    for i in range(len(data)):\n",
    "        vector = data[i]\n",
    "        class_value = vector[-1]\n",
    "        if (class_value not in sep):\n",
    "            sep[class_value] = list()\n",
    "        sep[class_value].append(vector)\n",
    "    return sep    \n",
    "\n",
    "def mean(units):\n",
    "    return sum(units)/float(len(numbers))\n",
    "\n",
    "def stdev(units):\n",
    "    avg = mean(units)\n",
    "    variance = sum([(x-avg)**2 for x in units]) / float(len(units))\n",
    "    return np.sqrt(variance)\n",
    "\n",
    "def calcs(data):\n",
    "    \n",
    "    op = [(mean(i), stdev(i), len(i)) for i in data]\n",
    "    del(op[-1])\n",
    "    return op\n",
    "\n",
    "def byclas(data):\n",
    "    sep = class_separator(data)\n",
    "    op = {}\n",
    "    for clas_value, ita in sep.items():\n",
    "        op[clas_value] = calcs(ita)\n",
    "    return op\n",
    "\n",
    "def toCox(data):\n",
    "    nuevo = []\n",
    "    \n",
    "    return data"
   ]
  },
  {
   "cell_type": "code",
   "execution_count": 4,
   "metadata": {},
   "outputs": [],
   "source": [
    "trn = mat['trn']\n",
    "clas = trn['y'][0,0]\n",
    "xc = trn['xc'][0,0]\n",
    "xd = trn['xd'][0,0]\n",
    "\n",
    "#datos discretos\n",
    "discrets = pd.DataFrame(data=xd)\n",
    "#datos continuos\n",
    "continuos = pd.DataFrame(data=xc)"
   ]
  },
  {
   "cell_type": "code",
   "execution_count": 5,
   "metadata": {},
   "outputs": [],
   "source": [
    "#Train and test sets of discretos\n",
    "D_train, D_test, c_train, c_test = train_test_split(discrets, clas, shuffle=False)"
   ]
  },
  {
   "cell_type": "code",
   "execution_count": 6,
   "metadata": {},
   "outputs": [
    {
     "name": "stdout",
     "output_type": "stream",
     "text": [
      "DATOS DISCRETOS\n",
      "Number of rows in the total set: 569\n",
      "Number of rows in the training set: 426\n",
      "Number of rows in the test set: 143\n",
      "\n"
     ]
    }
   ],
   "source": [
    "print(\"DATOS DISCRETOS\")\n",
    "print('Number of rows in the total set: {}'.format(discrets.shape[0]))\n",
    "print('Number of rows in the training set: {}'.format(D_train.shape[0]))\n",
    "print('Number of rows in the test set: {}\\n'.format(D_test.shape[0]))\n"
   ]
  },
  {
   "cell_type": "code",
   "execution_count": 7,
   "metadata": {},
   "outputs": [],
   "source": [
    "#train model Multinomial\n",
    "model_d.fit(D_train, c_train.ravel())\n",
    "predict_train = model_d.predict(D_test)"
   ]
  },
  {
   "cell_type": "code",
   "execution_count": 8,
   "metadata": {},
   "outputs": [
    {
     "name": "stdout",
     "output_type": "stream",
     "text": [
      "Accuracy score:  0.9440559440559441\n",
      "Precision score:  0.8857142857142857\n",
      "Recall score:  0.8857142857142857\n",
      "F1 score:  0.8857142857142857\n",
      "\n"
     ]
    }
   ],
   "source": [
    "print('Accuracy score: ', format(accuracy_score(c_test, predict_train)))\n",
    "print('Precision score: ', format(precision_score(c_test, predict_train)))\n",
    "print('Recall score: ', format(recall_score(c_test, predict_train)))\n",
    "print('F1 score: ', format(f1_score(c_test, predict_train))+'\\n')"
   ]
  },
  {
   "cell_type": "code",
   "execution_count": 9,
   "metadata": {},
   "outputs": [
    {
     "name": "stdout",
     "output_type": "stream",
     "text": [
      "DATOS CONTINUOS\n",
      "Number of rows in the total set: 569\n",
      "Number of rows in the training set: 426\n",
      "Number of rows in the test set: 143\n",
      "\n"
     ]
    }
   ],
   "source": [
    "#Train and test sets of Continuos\n",
    "C_train, C_test, cl_train, cl_test = train_test_split(continuos, clas, shuffle=False)\n",
    "print(\"DATOS CONTINUOS\")\n",
    "print('Number of rows in the total set: {}'.format(continuos.shape[0]))\n",
    "print('Number of rows in the training set: {}'.format(C_train.shape[0]))\n",
    "print('Number of rows in the test set: {}\\n'.format(C_test.shape[0]))\n"
   ]
  },
  {
   "cell_type": "code",
   "execution_count": 10,
   "metadata": {},
   "outputs": [
    {
     "name": "stdout",
     "output_type": "stream",
     "text": [
      "Accuracy score:  0.965034965034965\n",
      "Precision score:  0.9166666666666666\n",
      "Recall score:  0.9428571428571428\n",
      "F1 score:  0.9295774647887323\n",
      "\n"
     ]
    }
   ],
   "source": [
    "#Continuos normales\n",
    "\n",
    "#Train model gaussian\n",
    "\n",
    "model.fit(C_train,cl_train.ravel())\n",
    "predict_train = model.predict(C_test)\n",
    "\n",
    "print('Accuracy score: ', format(accuracy_score(cl_test, predict_train)))\n",
    "print('Precision score: ', format(precision_score(cl_test, predict_train)))\n",
    "print('Recall score: ', format(recall_score(cl_test, predict_train)))\n",
    "print('F1 score: ', format(f1_score(cl_test, predict_train))+'\\n')"
   ]
  },
  {
   "cell_type": "code",
   "execution_count": 11,
   "metadata": {},
   "outputs": [
    {
     "data": {
      "text/plain": [
       "Text(30.5, 0.5, 'Predicted')"
      ]
     },
     "execution_count": 11,
     "metadata": {},
     "output_type": "execute_result"
    },
    {
     "data": {
      "image/png": "[encoded data removed]",
      "text/plain": [
       "<Figure size 432x288 with 1 Axes>"
      ]
     },
     "metadata": {
      "needs_background": "light"
     },
     "output_type": "display_data"
    }
   ],
   "source": [
    "mat = confusion_matrix(predict_train, cl_test)\n",
    "names = np.unique(predict_train)\n",
    "sns.heatmap(mat, square=True, annot=True, fmt='d', cbar=False,\n",
    "             xticklabels=names, yticklabels=names)\n",
    "plt.xlabel('Truth')\n",
    "plt.ylabel('Predicted')"
   ]
  },
  {
   "cell_type": "code",
   "execution_count": 12,
   "metadata": {},
   "outputs": [],
   "source": [
    "newl = []\n",
    "box = np.zeros((569,30))\n",
    "#Box Cox\n",
    "fixed = data_positive(continuos)\n",
    "for i in fixed:\n",
    "    train_data, fitted_lambda = stats.boxcox(fixed[i][:])\n",
    "    newl.append(train_data)\n",
    "\n",
    "\n",
    "\n",
    "newl = np.asmatrix(newl).T        \n",
    "Cox_train, Cox_test, clox_train, clox_test = train_test_split(newl, clas, shuffle=False)"
   ]
  },
  {
   "cell_type": "code",
   "execution_count": 13,
   "metadata": {},
   "outputs": [
    {
     "name": "stdout",
     "output_type": "stream",
     "text": [
      "DATOS CONTINUOS BOXCOX\n",
      "Accuracy score:  0.958041958041958\n",
      "Precision score:  0.8717948717948718\n",
      "Recall score:  0.9714285714285714\n",
      "F1 score:  0.9189189189189189\n",
      "\n"
     ]
    }
   ],
   "source": [
    "model.fit(Cox_train,cl_train.ravel())\n",
    "predict_train = model.predict(Cox_test)\n",
    "print(\"DATOS CONTINUOS BOXCOX\")\n",
    "print('Accuracy score: ', format(accuracy_score(clox_test, predict_train)))\n",
    "print('Precision score: ', format(precision_score(clox_test, predict_train)))\n",
    "print('Recall score: ', format(recall_score(clox_test, predict_train)))\n",
    "print('F1 score: ', format(f1_score(clox_test, predict_train))+'\\n')\n"
   ]
  },
  {
   "cell_type": "code",
   "execution_count": 21,
   "metadata": {},
   "outputs": [
    {
     "data": {
      "text/plain": [
       "Text(0.5, 1.0, 'Probplot after Yeo-Johnson transformation')"
      ]
     },
     "execution_count": 21,
     "metadata": {},
     "output_type": "execute_result"
    },
    {
     "data": {
      "image/png": "[encoded data removed]",
      "text/plain": [
       "<Figure size 432x288 with 2 Axes>"
      ]
     },
     "metadata": {
      "needs_background": "light"
     },
     "output_type": "display_data"
    }
   ],
   "source": [
    "fig = plt.figure()\n",
    "ax1 = fig.add_subplot(211)\n",
    "x = stats.loggamma.rvs(5, size=500) + 5\n",
    "prob = stats.probplot(x, dist=stats.norm, plot=ax1)\n",
    "ax1.set_xlabel('')\n",
    "ax1.set_title('Probplot against normal distribution')\n",
    "ax2 = fig.add_subplot(212)\n",
    "xt, lmbda = stats.yeojohnson(x)\n",
    "prob = stats.probplot(xt, dist=stats.norm, plot=ax2)\n",
    "ax2.set_title('Probplot after Yeo-Johnson transformation')"
   ]
  },
  {
   "cell_type": "code",
   "execution_count": null,
   "metadata": {},
   "outputs": [],
   "source": []
  },
  {
   "cell_type": "code",
   "execution_count": null,
   "metadata": {},
   "outputs": [],
   "source": []
  },
  {
   "cell_type": "code",
   "execution_count": null,
   "metadata": {},
   "outputs": [],
   "source": []
  }
 ],
 "metadata": {
  "kernelspec": {
   "display_name": "Python 3",
   "language": "python",
   "name": "python3"
  },
  "language_info": {
   "codemirror_mode": {
    "name": "ipython",
    "version": 3
   },
   "file_extension": ".py",
   "mimetype": "text/x-python",
   "name": "python",
   "nbconvert_exporter": "python",
   "pygments_lexer": "ipython3",
   "version": "3.7.4"
  }
 },
 "nbformat": 4,
 "nbformat_minor": 2
}
